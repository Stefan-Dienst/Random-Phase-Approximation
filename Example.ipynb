{
 "cells": [
  {
   "cell_type": "markdown",
   "metadata": {},
   "source": [
    "# Examples to Show the Usage of the Random Phase Approximation"
   ]
  },
  {
   "cell_type": "code",
   "execution_count": 1,
   "metadata": {},
   "outputs": [
    {
     "name": "stderr",
     "output_type": "stream",
     "text": [
      "Starting on 1 Nodes at : 2018-11-20 18:47:28.243695\n"
     ]
    }
   ],
   "source": [
    "# Here are the models stored to obtain the Hamiltonian in k-space.\n",
    "from hamiltonian import Hubbard, T2G\n",
    "# This is the class to run RPA calculations.\n",
    "from rpa import RandomPhaseApproximation\n",
    "# This class is used to construct physical values.\n",
    "from operators import Susceptibilities, Operators\n",
    "\n",
    "import matplotlib.pyplot as plt\n",
    "%matplotlib inline"
   ]
  },
  {
   "cell_type": "markdown",
   "metadata": {},
   "source": [
    "## The Model Part"
   ]
  },
  {
   "cell_type": "markdown",
   "metadata": {},
   "source": [
    "We start of by constructing a one band Hubbard model. We treat every band as two orbitals one having spin up, the other spin down. Therefore shape of H(k) is 2x2.\n",
    "The only mandatory parameter are:\n",
    "1. `k_mesh`: A Sequence like object giving the number of point to scan over for every dimension.\n",
    "2. `t`: The strength of the nearest neighbor hopping.\n",
    "With the creation of the object a H(k) will be automatically created.\n",
    "The shape is the k_mesh + (orbital, orbitals)."
   ]
  },
  {
   "cell_type": "code",
   "execution_count": 2,
   "metadata": {},
   "outputs": [
    {
     "name": "stdout",
     "output_type": "stream",
     "text": [
      "(4, 4, 2, 2)\n"
     ]
    }
   ],
   "source": [
    "k_mesh = 4\n",
    "\n",
    "ham_hubbard_parameters = {\"k_mesh\" : (k_mesh, k_mesh),\n",
    "                          \"t\" : 1.0}\n",
    "ham_hubbard = Hubbard(**ham_hubbard_parameters)\n",
    "print(ham_hubbard.hamK.shape)"
   ]
  },
  {
   "cell_type": "markdown",
   "metadata": {},
   "source": [
    "This class can also be used to calculate the chemical potential for a specific filling."
   ]
  },
  {
   "cell_type": "code",
   "execution_count": 3,
   "metadata": {},
   "outputs": [
    {
     "name": "stdout",
     "output_type": "stream",
     "text": [
      "\n",
      "================================\n",
      "Calculate the chemical potential\n",
      "================================\n",
      "Iteration 1\n",
      "Density difference = 4.252265206616812e-12\n",
      "Final chemical potential: -0.0 eV\n"
     ]
    },
    {
     "data": {
      "text/plain": [
       "-0.0"
      ]
     },
     "execution_count": 3,
     "metadata": {},
     "output_type": "execute_result"
    }
   ],
   "source": [
    "ham_hubbard.get_chemical_potential(1.0)"
   ]
  },
  {
   "cell_type": "markdown",
   "metadata": {},
   "source": [
    "## The Random Phase Approximation"
   ]
  },
  {
   "cell_type": "markdown",
   "metadata": {},
   "source": [
    "Next we create the RandomPhaseApproximation object.\n",
    "As an input it needs:\n",
    "1. `hamiltonian`: A np.ndarray as the one that the Hubbard class produces.\n",
    "2. `chemical_potential`: Use the one from the previous calculation or set to anything.\n",
    "3. `beta`: The inverse temperature.\n",
    "4. `iw_mesh`: The number of points in fermionic frequency space in one direction.\n",
    "5. `U`: The intra-orbital interaction strength.\n",
    "\n",
    "Also you can give the parameters `Up`, `J` and `Jp` as the Kanamori interaction parameters for larger systems."
   ]
  },
  {
   "cell_type": "code",
   "execution_count": 4,
   "metadata": {},
   "outputs": [],
   "source": [
    "rpa_parameters = {\"chemical_potential\" : 0.0,\n",
    "                 \"beta\" : 10,\n",
    "                 \"iw_mesh\" : 512,\n",
    "                 \"U\" : 1.0}\n",
    "rpa = RandomPhaseApproximation(ham_hubbard.hamK, **rpa_parameters)"
   ]
  },
  {
   "cell_type": "markdown",
   "metadata": {},
   "source": [
    "You can now construct everything step by step.\n",
    "First the Greensfunctions."
   ]
  },
  {
   "cell_type": "code",
   "execution_count": 5,
   "metadata": {},
   "outputs": [
    {
     "name": "stderr",
     "output_type": "stream",
     "text": [
      "100%|██████████| 16/16 [00:00<00:00, 186.33it/s]\n",
      "100%|██████████| 4/4 [00:00<00:00, 660.18it/s]"
     ]
    },
    {
     "name": "stdout",
     "output_type": "stream",
     "text": [
      "\n",
      "Constructing the GF tensor\n",
      "==========================\n",
      "Construct GreensFunctions.\n",
      "\n",
      "Combining the GF tensor at the master.\n",
      "\n",
      "Prepare the GF tensor.\n"
     ]
    },
    {
     "name": "stderr",
     "output_type": "stream",
     "text": [
      "\n"
     ]
    }
   ],
   "source": [
    "rpa.construct_gf()"
   ]
  },
  {
   "cell_type": "markdown",
   "metadata": {},
   "source": [
    "Then the chi0. Here you can give specifc truncations to speed up further calculations if you are only interested in specifc points:\n",
    "\n",
    "```python\n",
    "\"\"\"\n",
    "Parameters\n",
    "----------\n",
    "freq_truncation : str 'static', int or slice\n",
    "                    Using the string 'static' will keep only keep the data for the frequency closest to zero.\n",
    "                    Unsing an int will only keep the data for the frequency at the index of the int.\n",
    "                    Using a slice object keeps the data for a range of freuencies.\n",
    "reci_truncation : str 'uniform', sequence like of ints,\n",
    "                                sequence like of sequence like of ints\n",
    "                                \n",
    "                    Using the string 'uniform' will only keep the data at the Gamma point.\n",
    "                    Using a Sequence like object filled with ints will only keep the data for a specific k-point.\n",
    "                    Using a Sequence like object filled with Sequence like objects filled with ints is like\n",
    "                    entering multiple k-points. This will result in keeping the data for all k-points on a path\n",
    "                    through the points given. For this to work the path of the given points must lie on the mesh \n",
    "                    points.\n",
    "\"\"\"\n",
    "```"
   ]
  },
  {
   "cell_type": "code",
   "execution_count": 6,
   "metadata": {},
   "outputs": [
    {
     "name": "stderr",
     "output_type": "stream",
     "text": [
      "100%|██████████| 1/1 [00:00<00:00, 28.37it/s]"
     ]
    },
    {
     "name": "stdout",
     "output_type": "stream",
     "text": [
      "\n",
      "Constructing the Chi0 tensor\n",
      "============================\n"
     ]
    },
    {
     "name": "stderr",
     "output_type": "stream",
     "text": [
      "\n"
     ]
    }
   ],
   "source": [
    "rpa.construct_chi0()"
   ]
  },
  {
   "cell_type": "markdown",
   "metadata": {},
   "source": [
    "At last the chiRPA has to be calculated."
   ]
  },
  {
   "cell_type": "code",
   "execution_count": 7,
   "metadata": {},
   "outputs": [
    {
     "name": "stdout",
     "output_type": "stream",
     "text": [
      "\n",
      "Constructing the ChiRPA tensor\n",
      "==============================\n"
     ]
    }
   ],
   "source": [
    "rpa.construct_chiRPA()"
   ]
  },
  {
   "cell_type": "markdown",
   "metadata": {},
   "source": [
    "Or you could just use the function `do_rpa` to do all of that.\n",
    "It will only run specifc tasks if parameters were changed.\n",
    "So if you run it now nothing will happen."
   ]
  },
  {
   "cell_type": "code",
   "execution_count": 8,
   "metadata": {},
   "outputs": [],
   "source": [
    "rpa.do_rpa()"
   ]
  },
  {
   "cell_type": "markdown",
   "metadata": {},
   "source": [
    "But if you change an interaction parameter of rpa it needs ro rerun `construct_chiRPA`."
   ]
  },
  {
   "cell_type": "code",
   "execution_count": 9,
   "metadata": {},
   "outputs": [
    {
     "name": "stdout",
     "output_type": "stream",
     "text": [
      "\n",
      "Constructing the ChiRPA tensor\n",
      "==============================\n"
     ]
    }
   ],
   "source": [
    "rpa.U = 1.1\n",
    "rpa.do_rpa()"
   ]
  },
  {
   "cell_type": "markdown",
   "metadata": {},
   "source": [
    "If you change a parameter that changes the model and not just the interaction all steps have to be rerun."
   ]
  },
  {
   "cell_type": "code",
   "execution_count": 10,
   "metadata": {},
   "outputs": [
    {
     "name": "stderr",
     "output_type": "stream",
     "text": [
      "100%|██████████| 1/1 [00:00<00:00, 31.87it/s]"
     ]
    },
    {
     "name": "stdout",
     "output_type": "stream",
     "text": [
      "\n",
      "Constructing the Chi0 tensor\n",
      "============================\n",
      "\n",
      "Constructing the ChiRPA tensor\n",
      "==============================\n"
     ]
    },
    {
     "name": "stderr",
     "output_type": "stream",
     "text": [
      "\n"
     ]
    }
   ],
   "source": [
    "rpa.chemical_potential = 0.1\n",
    "rpa.do_rpa()"
   ]
  },
  {
   "cell_type": "markdown",
   "metadata": {},
   "source": [
    "## The Output as a Greensfunction"
   ]
  },
  {
   "cell_type": "markdown",
   "metadata": {},
   "source": [
    "This is how to work with `RandomPhaseApproximation`, now let's look at the ouput data.\n",
    "\n",
    "Everything that is calculated is stored as an attribute of rpa (except the GF, they are deleted after to calculation of chi0 to save memory).\n",
    "It is stored as a GreensFunctionContainer object.\n",
    "```python\n",
    "class GreensFunctionContainer(defaultdict):\n",
    "    \"\"\"\n",
    "    Dictionary like container to manage GreensFunction objects\n",
    "\n",
    "    The GreensFunctionContainer object subclasses the defaultdict object, i.e. if one tries to\n",
    "    access a key that is not accessable for this key the default object will be returned and \n",
    "    stored. One should use GreensFunctions objects as default objects.\n",
    "\n",
    "    It has the ability to access values for keys that are not directly stored, but use a mapping.\n",
    "    If two GreensFunctions are considered equal but stored for different keys, the \n",
    "    map_duplicates function will only keep the value once and extend the mapping attribute.\n",
    "    This is important for memory saving.\n",
    "\n",
    "    Parameters\n",
    "    ----------\n",
    "    Default type of GreensFunction\n",
    "    \"\"\"\n",
    "```\n",
    "The documentaion for a GreensFunction object is as follows.\n",
    "```python\n",
    "class GreensFunction(object):\n",
    "    \"\"\"Container that mimics the behaivor of a Greens function\n",
    "    \n",
    "    Parameters\n",
    "    ----------\n",
    "    shape : iterable of ints, first int gives time_mesh the following determine the space_mesh\n",
    "    statistic : str, 'Fermion' or 'Boson', type of Greens function\n",
    "    time : str, 'freq' or 'tau', inital domain of the time data.\n",
    "    space : str, 'reci' or 'real', inital domain of the space data.\n",
    "    gamma_centered : bool, True if Gamma point is/shall be in the middle of the data. \n",
    "                     False for the beginning.\n",
    "    \"\"\"\n",
    "```\n",
    "\n",
    "In short, this gives the ability to easily manipulate the ouput data.\n",
    "Lets look at chi0 as an example."
   ]
  },
  {
   "cell_type": "code",
   "execution_count": 11,
   "metadata": {},
   "outputs": [
    {
     "data": {
      "text/plain": [
       "GreensFunctionContainer(<function greensfunction.<lambda>>,\n",
       "                        {'1111': A Boson GreensFunction in freq- and reci-space of shape (101, 4, 4). Gamma centered: True.})"
      ]
     },
     "execution_count": 11,
     "metadata": {},
     "output_type": "execute_result"
    }
   ],
   "source": [
    "rpa.chi0"
   ]
  },
  {
   "cell_type": "markdown",
   "metadata": {},
   "source": [
    "It contains only one unique GreensFunction. To see all that are non zero we can use."
   ]
  },
  {
   "cell_type": "code",
   "execution_count": 12,
   "metadata": {},
   "outputs": [
    {
     "data": {
      "text/plain": [
       "['1111', '0110', '0000', '1001']"
      ]
     },
     "execution_count": 12,
     "metadata": {},
     "output_type": "execute_result"
    }
   ],
   "source": [
    "rpa.chi0.mapping.keys()"
   ]
  },
  {
   "cell_type": "markdown",
   "metadata": {},
   "source": [
    "We can access any of those and have a look at it."
   ]
  },
  {
   "cell_type": "code",
   "execution_count": 13,
   "metadata": {},
   "outputs": [
    {
     "data": {
      "text/plain": [
       "A Boson GreensFunction in freq- and reci-space of shape (101, 4, 4). Gamma centered: True."
      ]
     },
     "execution_count": 13,
     "metadata": {},
     "output_type": "execute_result"
    }
   ],
   "source": [
    "chi0_1111 = rpa.chi0['1111']\n",
    "chi0_1111"
   ]
  },
  {
   "cell_type": "markdown",
   "metadata": {},
   "source": [
    "We could now for example only access the static part."
   ]
  },
  {
   "cell_type": "code",
   "execution_count": 14,
   "metadata": {},
   "outputs": [
    {
     "data": {
      "text/plain": [
       "A Boson GreensFunction in freq- and reci-space of shape (1, 4, 4). Gamma centered: True."
      ]
     },
     "execution_count": 14,
     "metadata": {},
     "output_type": "execute_result"
    }
   ],
   "source": [
    "chi0_1111.truncate_freq('static')"
   ]
  },
  {
   "cell_type": "markdown",
   "metadata": {},
   "source": [
    "Or transform to real space."
   ]
  },
  {
   "cell_type": "code",
   "execution_count": 15,
   "metadata": {},
   "outputs": [
    {
     "data": {
      "text/plain": [
       "A Boson GreensFunction in freq- and real-space of shape (101, 4, 4). Gamma centered: True."
      ]
     },
     "execution_count": 15,
     "metadata": {},
     "output_type": "execute_result"
    }
   ],
   "source": [
    "chi0_1111.to_real()"
   ]
  },
  {
   "cell_type": "markdown",
   "metadata": {},
   "source": [
    "To see all features checkout the documentation of `GreensFunction` in greensfunction.py"
   ]
  },
  {
   "cell_type": "markdown",
   "metadata": {},
   "source": [
    "## Susceptibilites"
   ]
  },
  {
   "cell_type": "markdown",
   "metadata": {},
   "source": [
    "If we now want to obtain physical values from these calculation we need the `Susceptibilites` class.\n",
    "But before we go there let's see what we even can calculate.\n",
    "\n",
    "For this we will use the `Operators` class were all stored operators are managed."
   ]
  },
  {
   "cell_type": "code",
   "execution_count": 16,
   "metadata": {},
   "outputs": [
    {
     "data": {
      "text/plain": [
       "Orbs\tOperators\n",
       "{'2': ['LS',\n",
       "       'Lx',\n",
       "       'Ly',\n",
       "       'Lz',\n",
       "       'Smin',\n",
       "       'Splus',\n",
       "       'Sx',\n",
       "       'Sy',\n",
       "       'Sz',\n",
       "       'n',\n",
       "       'ndown',\n",
       "       'nup'],\n",
       " '4': ['Smin',\n",
       "       'Splus',\n",
       "       'Sx',\n",
       "       'Sy',\n",
       "       'Sz',\n",
       "       'n',\n",
       "       'ndown',\n",
       "       'nup'],\n",
       " '6': ['LS',\n",
       "       'Lx',\n",
       "       'Ly',\n",
       "       'Lz',\n",
       "       'Smin',\n",
       "       'Splus',\n",
       "       'Sx',\n",
       "       'Sy',\n",
       "       'Sz',\n",
       "       'n',\n",
       "       'ndown',\n",
       "       'nup']}"
      ]
     },
     "execution_count": 16,
     "metadata": {},
     "output_type": "execute_result"
    }
   ],
   "source": [
    "op = Operators()\n",
    "op"
   ]
  },
  {
   "cell_type": "markdown",
   "metadata": {},
   "source": [
    "This gives a list of what operators are implemented for which number of orbitals.\n",
    "From these we can choose which two-particle response functions we want to calculate.\n",
    "Let's choose $<\\hat{S}_\\text{z}\\hat{S}_\\text{z}>$ and $<\\hat{n}\\hat{n}>$"
   ]
  },
  {
   "cell_type": "code",
   "execution_count": 17,
   "metadata": {},
   "outputs": [],
   "source": [
    "operator_pairs = [('Sz', 'Sz'), ('n', 'n')]"
   ]
  },
  {
   "cell_type": "markdown",
   "metadata": {},
   "source": [
    "This we have to tell the `Susceptibilies` class and also the number of orbitals our system has."
   ]
  },
  {
   "cell_type": "code",
   "execution_count": 18,
   "metadata": {},
   "outputs": [],
   "source": [
    "sus = Susceptibilities(operator_pairs, orbitals=2)"
   ]
  },
  {
   "cell_type": "markdown",
   "metadata": {},
   "source": [
    "Now it needs a `GreensFunctionContainer` as an input to calculate the two-particle response functions that we want.\n",
    "It will then store all of them in a `GreensFunctionContainer` under the attribute `susceptibilites`."
   ]
  },
  {
   "cell_type": "code",
   "execution_count": 19,
   "metadata": {},
   "outputs": [
    {
     "data": {
      "text/plain": [
       "GreensFunctionContainer(None,\n",
       "                        {'SzSz': A Boson GreensFunction in freq- and reci-space of shape (101, 4, 4). Gamma centered: True.,\n",
       "                         'nn': A Boson GreensFunction in freq- and reci-space of shape (101, 4, 4). Gamma centered: True.})"
      ]
     },
     "execution_count": 19,
     "metadata": {},
     "output_type": "execute_result"
    }
   ],
   "source": [
    "sus.calculate_susceptibilities(rpa.chi0)\n",
    "sus.susceptibilites"
   ]
  },
  {
   "cell_type": "markdown",
   "metadata": {},
   "source": [
    "We can now access them and manipulate as we want."
   ]
  },
  {
   "cell_type": "markdown",
   "metadata": {},
   "source": [
    "## Walktrough of the one-band Hubbard Model"
   ]
  },
  {
   "cell_type": "code",
   "execution_count": 20,
   "metadata": {},
   "outputs": [],
   "source": [
    "k_mesh = 64\n",
    "\n",
    "ham_hubbard_parameters = {\"k_mesh\" : (k_mesh, k_mesh),\n",
    "                          \"t\" : 1.0}\n",
    "ham_hubbard = Hubbard(**ham_hubbard_parameters)"
   ]
  },
  {
   "cell_type": "markdown",
   "metadata": {},
   "source": [
    "We can now only calculate the path through high-symmetry points. Because we constructed the H(k) we obviously know where they are and can state them.\n",
    "Let's use $\\Gamma-X-M-\\Gamma$."
   ]
  },
  {
   "cell_type": "code",
   "execution_count": 21,
   "metadata": {},
   "outputs": [],
   "source": [
    "path = [ [k_mesh/2, k_mesh/2], [0, k_mesh/2], [0,0], [k_mesh/2, k_mesh/2]]"
   ]
  },
  {
   "cell_type": "code",
   "execution_count": 22,
   "metadata": {},
   "outputs": [
    {
     "name": "stderr",
     "output_type": "stream",
     "text": [
      "  1%|          | 47/4096 [00:00<00:08, 461.60it/s]"
     ]
    },
    {
     "name": "stdout",
     "output_type": "stream",
     "text": [
      "\n",
      "Constructing the GF tensor\n",
      "==========================\n",
      "Construct GreensFunctions.\n"
     ]
    },
    {
     "name": "stderr",
     "output_type": "stream",
     "text": [
      "100%|██████████| 4096/4096 [00:06<00:00, 633.76it/s]\n",
      "  0%|          | 0/4 [00:00<?, ?it/s]"
     ]
    },
    {
     "name": "stdout",
     "output_type": "stream",
     "text": [
      "\n",
      "Combining the GF tensor at the master.\n"
     ]
    },
    {
     "name": "stderr",
     "output_type": "stream",
     "text": [
      "100%|██████████| 4/4 [00:00<00:00,  4.62it/s]\n"
     ]
    },
    {
     "name": "stdout",
     "output_type": "stream",
     "text": [
      "\n",
      "Prepare the GF tensor.\n"
     ]
    },
    {
     "name": "stderr",
     "output_type": "stream",
     "text": [
      "  0%|          | 0/1 [00:00<?, ?it/s]"
     ]
    },
    {
     "name": "stdout",
     "output_type": "stream",
     "text": [
      "\n",
      "Constructing the Chi0 tensor\n",
      "============================\n"
     ]
    },
    {
     "name": "stderr",
     "output_type": "stream",
     "text": [
      "100%|██████████| 1/1 [00:02<00:00,  2.87s/it]"
     ]
    },
    {
     "name": "stdout",
     "output_type": "stream",
     "text": [
      "\n",
      "Constructing the ChiRPA tensor\n",
      "==============================\n"
     ]
    },
    {
     "name": "stderr",
     "output_type": "stream",
     "text": [
      "\n"
     ]
    }
   ],
   "source": [
    "rpa_parameters = {\"chemical_potential\" : 0.0,\n",
    "                 \"beta\" : 10,\n",
    "                 \"iw_mesh\" : 512,\n",
    "                 \"U\" : 1.0}\n",
    "rpa = RandomPhaseApproximation(ham_hubbard.hamK, **rpa_parameters)\n",
    "rpa.do_rpa(reci_truncation=path)"
   ]
  },
  {
   "cell_type": "code",
   "execution_count": 23,
   "metadata": {},
   "outputs": [],
   "source": [
    "operator_pairs = [('Sz', 'Sz'), ('n', 'n')]\n",
    "sus = Susceptibilities(operator_pairs, orbitals=2)\n",
    "sus.calculate_susceptibilities(rpa.chiRPA)\n",
    "\n",
    "SzSz_U1 = sus.susceptibilites['SzSz'].copy().truncate_freq('static')"
   ]
  },
  {
   "cell_type": "markdown",
   "metadata": {},
   "source": [
    "We could now lowere the interaction strength."
   ]
  },
  {
   "cell_type": "code",
   "execution_count": 24,
   "metadata": {},
   "outputs": [
    {
     "name": "stdout",
     "output_type": "stream",
     "text": [
      "\n",
      "Constructing the ChiRPA tensor\n",
      "==============================\n"
     ]
    }
   ],
   "source": [
    "rpa.U = 0.5\n",
    "rpa.do_rpa()\n",
    "\n",
    "sus.calculate_susceptibilities(rpa.chiRPA)\n",
    "\n",
    "SzSz_U05 = sus.susceptibilites['SzSz'].copy().truncate_freq('static')"
   ]
  },
  {
   "cell_type": "markdown",
   "metadata": {},
   "source": [
    "A plotting library or something of that sort is not yet implemented, so let's just use this function here."
   ]
  },
  {
   "cell_type": "code",
   "execution_count": 25,
   "metadata": {},
   "outputs": [],
   "source": [
    "import numpy as np\n",
    "\n",
    "def path_plotting(path):\n",
    "    plot_path = []\n",
    "    high_symmetry = [0]\n",
    "    for start, stop in zip(path, path[1:]):\n",
    "        if start == path[0]:\n",
    "            prev = 0\n",
    "        else:\n",
    "            prev = plot_path[-1]\n",
    "        start, stop = np.array(start), np.array(stop)\n",
    "        diff = start - stop\n",
    "        non_zero = [abs(ele) for ele in diff if ele!=0]\n",
    "        factor = np.sqrt(len(non_zero))\n",
    "        steps = non_zero[0]\n",
    "        if list(stop) == path[-1]:\n",
    "            steps += 1\n",
    "        plot_path_extension = np.arange(prev, prev+steps*factor, factor)\n",
    "        plot_path.extend(plot_path_extension)\n",
    "        high_symmetry.append(plot_path_extension[-1])\n",
    "    return plot_path, high_symmetry"
   ]
  },
  {
   "cell_type": "code",
   "execution_count": 26,
   "metadata": {},
   "outputs": [
    {
     "data": {
      "text/plain": [
       "<matplotlib.legend.Legend at 0x7f3207346290>"
      ]
     },
     "execution_count": 26,
     "metadata": {},
     "output_type": "execute_result"
    },
    {
     "data": {
      "image/png": "[encoded data removed]",
      "text/plain": [
       "<Figure size 432x288 with 1 Axes>"
      ]
     },
     "metadata": {},
     "output_type": "display_data"
    }
   ],
   "source": [
    "plot_path, high_symmetry = path_plotting(path)\n",
    "\n",
    "fig = plt.figure()\n",
    "ax = fig.add_subplot(111)\n",
    "ax.set_xticks(high_symmetry)\n",
    "ax.set_xticklabels(['$\\Gamma$', 'X', 'M', '$\\Gamma$'])\n",
    "for x in high_symmetry:\n",
    "    ax.axvline(x, ls=\"--\", color='grey')\n",
    "\n",
    "ax.plot(plot_path, SzSz_U1.data[0], label='U=1.0 eV')\n",
    "ax.plot(plot_path, SzSz_U05.data[0], label='U=0.5 eV')\n",
    "ax.legend()"
   ]
  },
  {
   "cell_type": "markdown",
   "metadata": {},
   "source": [
    "Or we could calculate the susceptibilites for the whole BZ, but only static.\n",
    "And then plot the whole BZ in different ways or plot the susceptibiliy for the real-space lattice to better show the ordering."
   ]
  },
  {
   "cell_type": "code",
   "execution_count": 27,
   "metadata": {},
   "outputs": [
    {
     "name": "stderr",
     "output_type": "stream",
     "text": [
      "  1%|          | 51/4096 [00:00<00:07, 507.43it/s]"
     ]
    },
    {
     "name": "stdout",
     "output_type": "stream",
     "text": [
      "\n",
      "Constructing the GF tensor\n",
      "==========================\n",
      "Construct GreensFunctions.\n"
     ]
    },
    {
     "name": "stderr",
     "output_type": "stream",
     "text": [
      "100%|██████████| 4096/4096 [00:06<00:00, 626.95it/s]\n",
      "  0%|          | 0/4 [00:00<?, ?it/s]"
     ]
    },
    {
     "name": "stdout",
     "output_type": "stream",
     "text": [
      "\n",
      "Combining the GF tensor at the master.\n"
     ]
    },
    {
     "name": "stderr",
     "output_type": "stream",
     "text": [
      "100%|██████████| 4/4 [00:00<00:00,  4.73it/s]\n"
     ]
    },
    {
     "name": "stdout",
     "output_type": "stream",
     "text": [
      "\n",
      "Prepare the GF tensor.\n"
     ]
    },
    {
     "name": "stderr",
     "output_type": "stream",
     "text": [
      "  0%|          | 0/1 [00:00<?, ?it/s]"
     ]
    },
    {
     "name": "stdout",
     "output_type": "stream",
     "text": [
      "\n",
      "Constructing the Chi0 tensor\n",
      "============================\n"
     ]
    },
    {
     "name": "stderr",
     "output_type": "stream",
     "text": [
      "100%|██████████| 1/1 [00:02<00:00,  2.85s/it]"
     ]
    },
    {
     "name": "stdout",
     "output_type": "stream",
     "text": [
      "\n",
      "Constructing the ChiRPA tensor\n",
      "==============================\n"
     ]
    },
    {
     "name": "stderr",
     "output_type": "stream",
     "text": [
      "\n"
     ]
    }
   ],
   "source": [
    "rpa_parameters = {\"chemical_potential\" : 0.0,\n",
    "                 \"beta\" : 10,\n",
    "                 \"iw_mesh\" : 512,\n",
    "                 \"U\" : 1.3}\n",
    "rpa = RandomPhaseApproximation(ham_hubbard.hamK, **rpa_parameters)\n",
    "rpa.do_rpa(freq_truncation='static')"
   ]
  },
  {
   "cell_type": "code",
   "execution_count": 28,
   "metadata": {},
   "outputs": [],
   "source": [
    "sus.calculate_susceptibilities(rpa.chiRPA)\n",
    "\n",
    "SzSz_BZ = sus.susceptibilites['SzSz'].copy()"
   ]
  },
  {
   "cell_type": "code",
   "execution_count": 29,
   "metadata": {},
   "outputs": [
    {
     "data": {
      "text/plain": [
       "<matplotlib.colorbar.Colorbar at 0x7f32051acd10>"
      ]
     },
     "execution_count": 29,
     "metadata": {},
     "output_type": "execute_result"
    },
    {
     "data": {
      "image/png": "[encoded data removed]",
      "text/plain": [
       "<Figure size 720x720 with 4 Axes>"
      ]
     },
     "metadata": {},
     "output_type": "display_data"
    }
   ],
   "source": [
    "fig = plt.figure(figsize=(10,10))\n",
    "\n",
    "ax1 = plt.subplot2grid((2,2), (0,0), colspan=1)\n",
    "ax2 = plt.subplot2grid((2,2), (0,1), colspan=1)\n",
    "ax3 = plt.subplot2grid((2,2), (1,0), colspan=2)\n",
    "\n",
    "ax1.imshow(SzSz_BZ.data[0])\n",
    "ax1.set_title(\"BZ $\\Gamma$-centered\")\n",
    "ax1.set_xticks([0, k_mesh/2, k_mesh-1])\n",
    "ax1.set_xticklabels([\"$-\\pi$\", \"0\", \"$\\pi$\"])\n",
    "ax1.set_yticks([0, k_mesh/2, k_mesh-1])\n",
    "ax1.set_yticklabels([\"$-\\pi$\", \"0\", \"$\\pi$\"])\n",
    "\n",
    "ax2.imshow(SzSz_BZ.move_gamma().data[0])\n",
    "ax2.set_title(\"BZ $M$-centered\")\n",
    "ax2.set_xticks([0, k_mesh/2, k_mesh-1])\n",
    "ax2.set_xticklabels([\"$-\\pi$\", \"0\", \"$\\pi$\"])\n",
    "ax2.set_yticks([0, k_mesh/2, k_mesh-1])\n",
    "ax2.set_yticklabels([\"$-\\pi$\", \"0\", \"$\\pi$\"])\n",
    "\n",
    "pl = ax3.imshow(SzSz_BZ.to_real().move_gamma().data[0].real, cmap='summer', vmax=0.01)\n",
    "ax3.set_title(\"Real lattice R=(0,0) centered\")\n",
    "ax3.set_xticks([0, k_mesh/2, k_mesh-1])\n",
    "ax3.set_xticklabels([str(-k_mesh/2), \"0\", str(k_mesh/2)])\n",
    "ax3.set_yticks([0, k_mesh/2, k_mesh-1])\n",
    "ax3.set_yticklabels([str(-k_mesh/2), \"0\", str(k_mesh/2)])\n",
    "plt.colorbar(pl)"
   ]
  },
  {
   "cell_type": "markdown",
   "metadata": {},
   "source": [
    "## Benchmark for the 3-Dimensional t2g-Model"
   ]
  },
  {
   "cell_type": "code",
   "execution_count": 30,
   "metadata": {},
   "outputs": [],
   "source": [
    "k_mesh = 8\n",
    "\n",
    "ham_t2g_parameters = {\"k_mesh\" : (k_mesh, k_mesh, k_mesh),\n",
    "                      \"t\" : 1.0,\n",
    "                      \"tprime\" : 0.1,\n",
    "                      \"soc\" : 0.1,\n",
    "                      \"cf\" : 0.2}\n",
    "\n",
    "ham_t2g = T2G(**ham_t2g_parameters)"
   ]
  },
  {
   "cell_type": "code",
   "execution_count": 31,
   "metadata": {},
   "outputs": [],
   "source": [
    "path = [ [k_mesh/2, k_mesh/2, k_mesh/2],\n",
    "         [0, k_mesh/2, k_mesh/2],\n",
    "         [0, 0, k_mesh/2],\n",
    "         [0, 0, 0],\n",
    "         [k_mesh/2, k_mesh/2, k_mesh/2] ]"
   ]
  },
  {
   "cell_type": "code",
   "execution_count": 32,
   "metadata": {},
   "outputs": [],
   "source": [
    "rpa_parameters = {\"chemical_potential\" : 0.0,\n",
    "                 \"beta\" : 10,\n",
    "                 \"iw_mesh\" : 512,\n",
    "                 \"U\" : 1.0,\n",
    "                 \"Up\" : 0.8,\n",
    "                 \"J\" : 0.1,\n",
    "                 \"Jp\" : 0.1}\n",
    "\n",
    "rpa = RandomPhaseApproximation(ham_t2g.hamK, **rpa_parameters)"
   ]
  },
  {
   "cell_type": "code",
   "execution_count": 33,
   "metadata": {},
   "outputs": [
    {
     "name": "stderr",
     "output_type": "stream",
     "text": [
      "  3%|▎         | 14/512 [00:00<00:03, 139.52it/s]"
     ]
    },
    {
     "name": "stdout",
     "output_type": "stream",
     "text": [
      "\n",
      "Constructing the GF tensor\n",
      "==========================\n",
      "Construct GreensFunctions.\n"
     ]
    },
    {
     "name": "stderr",
     "output_type": "stream",
     "text": [
      "100%|██████████| 512/512 [00:02<00:00, 176.89it/s]\n",
      " 11%|█         | 4/36 [00:00<00:01, 31.54it/s]"
     ]
    },
    {
     "name": "stdout",
     "output_type": "stream",
     "text": [
      "\n",
      "Combining the GF tensor at the master.\n"
     ]
    },
    {
     "name": "stderr",
     "output_type": "stream",
     "text": [
      "100%|██████████| 36/36 [00:01<00:00, 30.87it/s]\n"
     ]
    },
    {
     "name": "stdout",
     "output_type": "stream",
     "text": [
      "\n",
      "Prepare the GF tensor.\n"
     ]
    },
    {
     "name": "stderr",
     "output_type": "stream",
     "text": [
      "  0%|          | 0/81 [00:00<?, ?it/s]"
     ]
    },
    {
     "name": "stdout",
     "output_type": "stream",
     "text": [
      "\n",
      "Constructing the Chi0 tensor\n",
      "============================\n"
     ]
    },
    {
     "name": "stderr",
     "output_type": "stream",
     "text": [
      "100%|██████████| 81/81 [00:33<00:00,  2.45it/s]"
     ]
    },
    {
     "name": "stdout",
     "output_type": "stream",
     "text": [
      "\n",
      "Constructing the ChiRPA tensor\n",
      "==============================\n",
      "1 loop, best of 1: 41 s per loop\n"
     ]
    },
    {
     "name": "stderr",
     "output_type": "stream",
     "text": [
      "\n"
     ]
    }
   ],
   "source": [
    "%timeit -n 1 -r 1 rpa.do_rpa(freq_truncation='static', reci_truncation=path)"
   ]
  },
  {
   "cell_type": "code",
   "execution_count": null,
   "metadata": {},
   "outputs": [],
   "source": []
  },
  {
   "cell_type": "code",
   "execution_count": null,
   "metadata": {},
   "outputs": [],
   "source": []
  }
 ],
 "metadata": {
  "kernelspec": {
   "display_name": "Python 2",
   "language": "python",
   "name": "python2"
  },
  "language_info": {
   "codemirror_mode": {
    "name": "ipython",
    "version": 2
   },
   "file_extension": ".py",
   "mimetype": "text/x-python",
   "name": "python",
   "nbconvert_exporter": "python",
   "pygments_lexer": "ipython2",
   "version": "2.7.15"
  }
 },
 "nbformat": 4,
 "nbformat_minor": 2
}
